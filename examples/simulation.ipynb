{
 "cells": [
  {
   "cell_type": "markdown",
   "id": "3ad3f018-80bf-4485-933e-b4f8809fada5",
   "metadata": {},
   "source": [
    "# Simulate and estimate a very simple Bayesian causal model"
   ]
  },
  {
   "cell_type": "code",
   "execution_count": 1,
   "id": "87afa7b7-8711-4df5-9610-34ac15531439",
   "metadata": {},
   "outputs": [],
   "source": [
    "import math\n",
    "import os\n",
    "import scipy.stats as stats\n",
    "import numpy as np\n",
    "import seaborn as sns\n",
    "import logging\n",
    "import pandas as pd\n",
    "import matplotlib.pyplot as plt"
   ]
  },
  {
   "cell_type": "code",
   "execution_count": 2,
   "id": "ba464dea-a916-4c6b-90fa-63afa336248e",
   "metadata": {},
   "outputs": [
    {
     "name": "stderr",
     "output_type": "stream",
     "text": [
      "/home/ssm-user/miniconda3/lib/python3.10/site-packages/tqdm/auto.py:21: TqdmWarning: IProgress not found. Please update jupyter and ipywidgets. See https://ipywidgets.readthedocs.io/en/stable/user_install.html\n",
      "  from .autonotebook import tqdm as notebook_tqdm\n"
     ]
    }
   ],
   "source": [
    "import torch\n",
    "import torch.distributions.constraints as constraints\n",
    "from torch import nn, optim\n",
    "from torch.utils.data import TensorDataset, DataLoader\n",
    "\n",
    "import pyro\n",
    "from pyro.nn import PyroModule, PyroSample\n",
    "from pyro.optim import Adam\n",
    "from pyro.infer import SVI, Trace_ELBO\n",
    "import pyro.distributions as dist"
   ]
  },
  {
   "cell_type": "markdown",
   "id": "346e7bf2-b502-4c8e-9791-038428842e62",
   "metadata": {},
   "source": [
    "### Simulate a latent variable model with perturbations"
   ]
  },
  {
   "cell_type": "code",
   "execution_count": 49,
   "id": "a99abfa9-4aed-41f8-864b-0c7c57311d41",
   "metadata": {},
   "outputs": [],
   "source": [
    "# Experiment parameters\n",
    "n_perturb = 200\n",
    "n_latent = 5\n",
    "n_features = 50\n",
    "n_obs = 10000\n",
    "\n",
    "# Prior distributions\n",
    "latent_mean = 1\n",
    "latent_std = 2\n",
    "\n",
    "# Define perturbation-latent space effect, should be sparse\n",
    "beta = stats.norm.rvs(loc=10,scale=2, size=(n_perturb, n_latent))\n",
    "beta_mask = np.random.choice([0, 1], p=[0.2, 0.8],size=(n_perturb, n_latent)).astype(bool)\n",
    "beta[beta_mask] = 0\n",
    "\n",
    "# Define latent-feature mapping, should be sparse\n",
    "W = stats.norm.rvs(scale=2, size=(n_latent, n_features))\n",
    "b = stats.norm.rvs(size=(1, n_features))\n",
    "W_mask = np.random.choice([0, 1], p=[0.3, 0.7], size=(n_latent, n_features)).astype(bool)\n",
    "W[W_mask] = 0"
   ]
  },
  {
   "cell_type": "code",
   "execution_count": 50,
   "id": "a51fa47d-32b9-4198-aefa-4b6256375ec9",
   "metadata": {},
   "outputs": [],
   "source": [
    "# Generate the guide assignment matrix\n",
    "P = np.zeros((n_obs,n_perturb), dtype=float)\n",
    "for i in range(n_obs):\n",
    "    P[i, np.random.choice(n_perturb)] = 1.\n",
    "\n",
    "# Generate the latent space variables\n",
    "# Z = stats.norm.rvs(loc=latent_mean, scale=latent_std, size=(n_obs, n_latent))\n",
    "# Z = Z**2-Z-0.5\n",
    "# Z += P@beta\n",
    "Z = stats.poisson.rvs(mu=P@beta)\n",
    "\n",
    "# Generate means for X's\n",
    "X_means = Z@W+b\n",
    "X = stats.norm.rvs(loc=X_means, scale=1.5)\n",
    "\n",
    "X = torch.tensor(X).float().cuda()\n",
    "P = torch.tensor(P).float().cuda()\n",
    "Z = torch.tensor(Z).float().cuda()"
   ]
  },
  {
   "cell_type": "code",
   "execution_count": 52,
   "id": "c171169f-562c-4612-92fd-e4f96fb51fbe",
   "metadata": {},
   "outputs": [],
   "source": [
    "device = X.device"
   ]
  },
  {
   "cell_type": "code",
   "execution_count": 53,
   "id": "a62c0b8b-1d74-46cf-871d-2c9e1eaae1d3",
   "metadata": {},
   "outputs": [],
   "source": [
    "def tfn(value, device=device):\n",
    "    \n",
    "    return torch.tensor(value, device=device)"
   ]
  },
  {
   "cell_type": "code",
   "execution_count": 54,
   "id": "08258e9d-5e43-4439-864c-08b774a34bbe",
   "metadata": {},
   "outputs": [],
   "source": [
    "def reset_model_weights(layer):\n",
    "    if hasattr(layer, 'reset_parameters'):\n",
    "        layer.reset_parameters()\n",
    "    else:\n",
    "        if hasattr(layer, 'children'):\n",
    "            for child in layer.children():\n",
    "                reset_model_weights(child)"
   ]
  },
  {
   "cell_type": "markdown",
   "id": "7783fe76-140f-4aea-ab55-72e7535701ac",
   "metadata": {},
   "source": [
    "### Autoencoder with Perturbation guide for latent space"
   ]
  },
  {
   "cell_type": "code",
   "execution_count": 55,
   "id": "3312b04b-b79a-4717-bf2f-5e0ad9a82ded",
   "metadata": {},
   "outputs": [],
   "source": [
    "class PerturbAE(nn.Module):\n",
    "    def __init__(self, n_features, n_latent, n_hidden, n_perturb):\n",
    "        super().__init__()\n",
    "        self.encoder_hidden_layer = nn.Linear(\n",
    "            in_features=n_features, out_features=n_hidden\n",
    "        )\n",
    "        self.encoder_output_layer = nn.Linear(\n",
    "            in_features=n_hidden, out_features=n_latent\n",
    "        )\n",
    "        self.decoder = nn.Linear(\n",
    "            in_features=n_latent, out_features=n_features\n",
    "        )\n",
    "        self.perturb = nn.Linear(\n",
    "            in_features=n_perturb, out_features=n_latent, bias=False\n",
    "        )\n",
    "\n",
    "        \n",
    "    def encode(self, features):\n",
    "        \n",
    "        activation = self.encoder_hidden_layer(features)\n",
    "        activation = torch.relu(activation)\n",
    "        code = self.encoder_output_layer(activation)\n",
    "        # code = torch.relu(code)\n",
    "        \n",
    "        return code\n",
    "    \n",
    "    \n",
    "    def decode(self, code):\n",
    "        \n",
    "        reconstructed = self.decoder(code)\n",
    "        return reconstructed\n",
    "    \n",
    "    \n",
    "    def perturb_effect(self, perturb_ind):\n",
    "        \n",
    "        return self.perturb(perturb_ind)\n",
    "    \n",
    "    \n",
    "    def forward(self, features):\n",
    "        code = self.encode(features)\n",
    "        # delta = self.perturb_effect(perturb_ind)\n",
    "        return self.decode(code)"
   ]
  },
  {
   "cell_type": "code",
   "execution_count": 56,
   "id": "8523af54-e2ee-4914-8f06-7c000a6660d8",
   "metadata": {},
   "outputs": [],
   "source": [
    "dataset = TensorDataset(X, P)\n",
    "dataloader = DataLoader(dataset, batch_size=1000)"
   ]
  },
  {
   "cell_type": "code",
   "execution_count": 57,
   "id": "2d3209f0-5def-418c-bb3d-48311e2eedbd",
   "metadata": {},
   "outputs": [],
   "source": [
    "# create a model from `AE` autoencoder class\n",
    "# load it to the specified device, either gpu or cpu\n",
    "model = PerturbAE(n_features=n_features, n_latent=n_latent*2, n_hidden=n_latent*2, n_perturb=n_perturb).to(device)\n",
    "\n",
    "# create an optimizer object\n",
    "# Adam optimizer with learning rate 1e-3\n",
    "optimizer = optim.Adam(model.parameters(), lr=1e-3)\n",
    "\n",
    "# mean-squared error loss\n",
    "criterion = nn.MSELoss(reduction='mean')"
   ]
  },
  {
   "cell_type": "code",
   "execution_count": 58,
   "id": "16da9bdb-8f1c-47d4-8443-42ed91601035",
   "metadata": {},
   "outputs": [
    {
     "name": "stdout",
     "output_type": "stream",
     "text": [
      "2.496957540512085 1.5613511800765991 0.003567406442016363 0.015547167509794235\n",
      "epoch : 1/5000, loss = 3.641115\n",
      "0.718544602394104 0.337656706571579 0.04199710488319397 0.05173812806606293\n",
      "epoch : 101/5000, loss = 1.137801\n",
      "0.1730813831090927 0.18091751635074615 0.075478695333004 0.07541252672672272\n",
      "epoch : 201/5000, loss = 0.510070\n",
      "0.07741445302963257 0.09313179552555084 0.08850102871656418 0.08677934855222702\n",
      "epoch : 301/5000, loss = 0.351887\n",
      "0.053771983832120895 0.06071437522768974 0.09012234956026077 0.09355373680591583\n",
      "epoch : 401/5000, loss = 0.302296\n",
      "0.0476965606212616 0.049090731889009476 0.08667568117380142 0.09812534600496292\n",
      "epoch : 501/5000, loss = 0.284121\n",
      "0.045919910073280334 0.04396762698888779 0.08115600049495697 0.10187710076570511\n",
      "epoch : 601/5000, loss = 0.274544\n",
      "0.0450156070291996 0.04069925472140312 0.0750846117734909 0.10484975576400757\n",
      "epoch : 701/5000, loss = 0.266866\n",
      "0.04442184418439865 0.03805310279130936 0.06909193843603134 0.10658900439739227\n",
      "epoch : 801/5000, loss = 0.259193\n",
      "0.04405166581273079 0.03574453666806221 0.06351727992296219 0.10656365752220154\n",
      "epoch : 901/5000, loss = 0.250858\n",
      "0.04376673325896263 0.033566419035196304 0.05892900377511978 0.10479976236820221\n",
      "epoch : 1001/5000, loss = 0.242198\n",
      "0.043461333960294724 0.03213953226804733 0.054898038506507874 0.10243987292051315\n",
      "epoch : 1101/5000, loss = 0.234207\n",
      "0.042936306446790695 0.03105505369603634 0.05038055032491684 0.09736191481351852\n",
      "epoch : 1201/5000, loss = 0.223062\n",
      "0.04220914468169212 0.029605740681290627 0.04505553096532822 0.09135424345731735\n",
      "epoch : 1301/5000, loss = 0.209504\n",
      "0.04174381121993065 0.027909288182854652 0.041617196053266525 0.086469866335392\n",
      "epoch : 1401/5000, loss = 0.198895\n",
      "0.041388820856809616 0.026471415534615517 0.039347004145383835 0.08239219337701797\n",
      "epoch : 1501/5000, loss = 0.190664\n",
      "0.0411815419793129 0.02511879801750183 0.03664720430970192 0.0793386921286583\n",
      "epoch : 1601/5000, loss = 0.183257\n",
      "0.04100950062274933 0.02386532351374626 0.033562324941158295 0.07685858011245728\n",
      "epoch : 1701/5000, loss = 0.176217\n",
      "0.04099758714437485 0.02261190488934517 0.03161903843283653 0.07460283488035202\n",
      "epoch : 1801/5000, loss = 0.170732\n",
      "0.04079224541783333 0.021758418530225754 0.030003681778907776 0.07286874204874039\n",
      "epoch : 1901/5000, loss = 0.166309\n",
      "0.040841277688741684 0.021068507805466652 0.02910592034459114 0.07178786396980286\n",
      "epoch : 2001/5000, loss = 0.163629\n",
      "0.04096433147788048 0.020551219582557678 0.028764983639121056 0.07107801735401154\n",
      "epoch : 2101/5000, loss = 0.162171\n",
      "0.04112222045660019 0.020218372344970703 0.028634002432227135 0.07038475573062897\n",
      "epoch : 2201/5000, loss = 0.161180\n",
      "0.0412587970495224 0.019985098391771317 0.028544234111905098 0.0697324350476265\n",
      "epoch : 2301/5000, loss = 0.160346\n",
      "0.0414016991853714 0.01977868750691414 0.028492776677012444 0.06930063664913177\n",
      "epoch : 2401/5000, loss = 0.159813\n",
      "0.04148704931139946 0.019662465900182724 0.02846064791083336 0.06906569749116898\n",
      "epoch : 2501/5000, loss = 0.159518\n",
      "0.04153064638376236 0.019603662192821503 0.028440911322832108 0.0689004585146904\n",
      "epoch : 2601/5000, loss = 0.159317\n",
      "0.0415385477244854 0.019574474543333054 0.028430163860321045 0.06883437931537628\n",
      "epoch : 2701/5000, loss = 0.159217\n",
      "0.04152849689126015 0.0195652823895216 0.028425751253962517 0.06884612888097763\n",
      "epoch : 2801/5000, loss = 0.159204\n",
      "0.04152688384056091 0.019557373598217964 0.02842419408261776 0.06884913891553879\n",
      "epoch : 2901/5000, loss = 0.159196\n",
      "0.04151945561170578 0.019554179161787033 0.02842443808913231 0.06884903460741043\n",
      "epoch : 3001/5000, loss = 0.159185\n",
      "0.04151998832821846 0.019545767456293106 0.02842589095234871 0.06884630769491196\n",
      "epoch : 3101/5000, loss = 0.159176\n",
      "0.04160027205944061 0.019379818812012672 0.02844465710222721 0.06882306188344955\n",
      "epoch : 3201/5000, loss = 0.159102\n",
      "0.041600778698921204 0.01939132995903492 0.028461063280701637 0.06879375129938126\n",
      "epoch : 3301/5000, loss = 0.159100\n",
      "0.04159978777170181 0.01940103992819786 0.028472742065787315 0.06877373158931732\n",
      "epoch : 3401/5000, loss = 0.159099\n",
      "0.04160003736615181 0.01940595731139183 0.02848031558096409 0.0687587782740593\n",
      "epoch : 3501/5000, loss = 0.159097\n",
      "0.04159870743751526 0.019409215077757835 0.02848607860505581 0.06875026226043701\n",
      "epoch : 3601/5000, loss = 0.159095\n",
      "0.04159898683428764 0.019410574808716774 0.028489751741290092 0.06874309480190277\n",
      "epoch : 3701/5000, loss = 0.159094\n",
      "0.04159748554229736 0.019412150606513023 0.028493493795394897 0.06873848289251328\n",
      "epoch : 3801/5000, loss = 0.159093\n",
      "0.04159719496965408 0.019413162022829056 0.02849506214261055 0.06873485445976257\n",
      "epoch : 3901/5000, loss = 0.159093\n",
      "0.04159612953662872 0.019414439797401428 0.02849672921001911 0.06873232871294022\n",
      "epoch : 4001/5000, loss = 0.159091\n",
      "0.041595708578825 0.0194148700684309 0.0284977238625288 0.06873007863759995\n",
      "epoch : 4101/5000, loss = 0.159091\n",
      "0.041594430804252625 0.019416196271777153 0.02849889174103737 0.06873052567243576\n",
      "epoch : 4201/5000, loss = 0.159091\n",
      "0.0415937677025795 0.019415810704231262 0.028498956933617592 0.0687287300825119\n",
      "epoch : 4301/5000, loss = 0.159089\n",
      "0.04159360006451607 0.019415728747844696 0.028499463573098183 0.0687289834022522\n",
      "epoch : 4401/5000, loss = 0.159089\n",
      "0.041593037545681 0.019416440278291702 0.028499487787485123 0.06872827559709549\n",
      "epoch : 4501/5000, loss = 0.159088\n",
      "0.04159122332930565 0.01941724866628647 0.028499791398644447 0.06872866302728653\n",
      "epoch : 4601/5000, loss = 0.159088\n",
      "0.041591763496398926 0.019416848197579384 0.0284999068826437 0.06872829794883728\n",
      "epoch : 4701/5000, loss = 0.159088\n",
      "0.04159116372466087 0.019416602328419685 0.028499998152256012 0.06872883439064026\n",
      "epoch : 4801/5000, loss = 0.159087\n",
      "0.041590847074985504 0.01941632851958275 0.02849995717406273 0.06872852891683578\n",
      "epoch : 4901/5000, loss = 0.159087\n"
     ]
    }
   ],
   "source": [
    "epochs = 5000\n",
    "lambda1 = 1\n",
    "lambda2 = 0.05\n",
    "lambda3 = 0.05\n",
    "reset_model_weights(model)\n",
    "\n",
    "for epoch in range(epochs): \n",
    "    loss = 0\n",
    "    for batch_features, perturb_features in dataloader:\n",
    "        \n",
    "        # reset the gradients back to zero\n",
    "        # PyTorch accumulates gradients on subsequent backward passes\n",
    "        optimizer.zero_grad()\n",
    "        \n",
    "        # compute reconstructions\n",
    "        outputs = model(batch_features)\n",
    "        code = model.encode(batch_features)\n",
    "        perturb_prediction = model.perturb_effect(perturb_features)\n",
    "        \n",
    "        # compute training reconstruction loss\n",
    "        reconst_loss = criterion(outputs, batch_features)/tfn(n_features)\n",
    "        regression_loss = lambda1 * criterion(perturb_prediction, code)/tfn(n_latent)\n",
    "        perturb_l1_loss = lambda2 * torch.norm(model.perturb.weight, 1)/tfn(n_latent*n_perturb)\n",
    "        decoder_l1_loss = lambda3 * torch.norm(model.decoder.weight, 1)/tfn(n_latent*n_features)\n",
    "        train_loss = reconst_loss + regression_loss + perturb_l1_loss + decoder_l1_loss\n",
    "        \n",
    "        if loss == 0 and epoch % 100 == 0:\n",
    "            \n",
    "            print(reconst_loss.item(), regression_loss.item(), perturb_l1_loss.item(), decoder_l1_loss.item())\n",
    "            \n",
    "        \n",
    "        # compute accumulated gradients\n",
    "        train_loss.backward()\n",
    "        \n",
    "        # perform parameter update based on current gradients\n",
    "        optimizer.step()\n",
    "        \n",
    "        # add the mini-batch training loss to epoch loss\n",
    "        loss += train_loss.item()\n",
    "    \n",
    "    # compute the epoch training loss\n",
    "    loss = loss / len(dataloader)\n",
    "    \n",
    "    # if (prev_loss - loss)/prev_loss < 1e-8:\n",
    "    #     break\n",
    "    # prev_loss = loss\n",
    "    \n",
    "    # display the epoch training loss\n",
    "    if epoch % 100 == 0:\n",
    "        print(\"epoch : {}/{}, loss = {:.6f}\".format(epoch + 1, epochs, loss))\n",
    "    "
   ]
  },
  {
   "cell_type": "code",
   "execution_count": 59,
   "id": "d2b5d8a0-e8a6-40b5-9256-0e35b52360d1",
   "metadata": {},
   "outputs": [
    {
     "data": {
      "text/plain": [
       "Text(0.5, 1.0, 'Reconstructing the output X')"
      ]
     },
     "execution_count": 59,
     "metadata": {},
     "output_type": "execute_result"
    },
    {
     "data": {
      "image/png": "[encoded data removed]",
      "text/plain": [
       "<Figure size 640x480 with 1 Axes>"
      ]
     },
     "metadata": {},
     "output_type": "display_data"
    }
   ],
   "source": [
    "x = X.cpu().numpy().ravel()\n",
    "x_hat = model(X).detach().cpu().numpy().ravel()\n",
    "plt.scatter(x,x_hat, s=1)\n",
    "plt.title('Reconstructing the output X')\n",
    "\n"
   ]
  },
  {
   "cell_type": "code",
   "execution_count": 60,
   "id": "a497288a-4179-403b-8216-38c38bd7214a",
   "metadata": {},
   "outputs": [],
   "source": [
    "# sns.pairplot(pd.DataFrame(z_hat))"
   ]
  },
  {
   "cell_type": "code",
   "execution_count": 61,
   "id": "69bffffd-e297-4d86-bfd7-264987c93f60",
   "metadata": {},
   "outputs": [
    {
     "data": {
      "image/png": "[encoded data removed]",
      "text/plain": [
       "<Figure size 1000x500 with 50 Axes>"
      ]
     },
     "metadata": {},
     "output_type": "display_data"
    }
   ],
   "source": [
    "def pairplot(A, B, s=1):\n",
    "    A_num_col = A.shape[1]\n",
    "    B_num_col = B.shape[1]\n",
    "    plot_idx = 1\n",
    "    plt.figure(figsize=(B_num_col, A_num_col))\n",
    "    for i in range(A_num_col):\n",
    "        for j in range(B_num_col):\n",
    "            \n",
    "            plt.subplot(A_num_col, B_num_col, plot_idx)\n",
    "            plt.scatter(A[:, i], B[:, j], s=s)\n",
    "            # plt.xticks([]);\n",
    "            # plt.yticks([]);\n",
    "            plot_idx+=1\n",
    "\n",
    "z = Z.cpu().numpy()\n",
    "z_hat = model.encode(X).cpu().detach().numpy()\n",
    "\n",
    "pairplot(z, z_hat)"
   ]
  },
  {
   "cell_type": "code",
   "execution_count": 62,
   "id": "99ffc540-a550-47cd-b693-477c3adb9abb",
   "metadata": {},
   "outputs": [],
   "source": [
    "effect_size = beta@W"
   ]
  },
  {
   "cell_type": "code",
   "execution_count": 63,
   "id": "9be0cc6f-83f0-45b3-8597-5cc16680ff1a",
   "metadata": {},
   "outputs": [],
   "source": [
    "effect_size_hat = (model.perturb.weight.T@model.decoder.weight.T).cpu().detach().numpy()"
   ]
  },
  {
   "cell_type": "code",
   "execution_count": 64,
   "id": "9c11ff7d-5626-436d-9625-243d01787b21",
   "metadata": {},
   "outputs": [
    {
     "data": {
      "text/plain": [
       "<matplotlib.collections.PathCollection at 0x7f2d8224ac80>"
      ]
     },
     "execution_count": 64,
     "metadata": {},
     "output_type": "execute_result"
    },
    {
     "data": {
      "image/png": "[encoded data removed]",
      "text/plain": [
       "<Figure size 640x480 with 1 Axes>"
      ]
     },
     "metadata": {},
     "output_type": "display_data"
    }
   ],
   "source": [
    "plt.scatter(effect_size.ravel(), effect_size_hat.ravel())"
   ]
  },
  {
   "cell_type": "code",
   "execution_count": null,
   "id": "f274ebb7-7255-4d29-81a8-87535e99a405",
   "metadata": {},
   "outputs": [],
   "source": []
  },
  {
   "cell_type": "code",
   "execution_count": null,
   "id": "e760da8b-2832-4626-8fc2-cf1e9309d4a3",
   "metadata": {},
   "outputs": [],
   "source": []
  },
  {
   "cell_type": "code",
   "execution_count": null,
   "id": "c742feb7-e987-4a12-b6d6-2c9213e9d879",
   "metadata": {},
   "outputs": [],
   "source": []
  },
  {
   "cell_type": "code",
   "execution_count": null,
   "id": "a8f6e2cd-7591-4afa-bb8d-4089d79003b7",
   "metadata": {},
   "outputs": [],
   "source": []
  },
  {
   "cell_type": "code",
   "execution_count": null,
   "id": "f482b30c-1622-44da-b749-6f511bd288de",
   "metadata": {},
   "outputs": [],
   "source": []
  },
  {
   "cell_type": "code",
   "execution_count": null,
   "id": "6e3f1918-98e7-4054-90b1-291104c49e08",
   "metadata": {},
   "outputs": [],
   "source": []
  },
  {
   "cell_type": "code",
   "execution_count": null,
   "id": "24967384-f61f-4283-8cae-724b4f6e1df9",
   "metadata": {},
   "outputs": [],
   "source": []
  },
  {
   "cell_type": "code",
   "execution_count": null,
   "id": "d0bde336-2773-49cf-b175-649bc8626c86",
   "metadata": {},
   "outputs": [],
   "source": []
  },
  {
   "cell_type": "markdown",
   "id": "2f601acf-7b97-4249-a10b-b5deacf94132",
   "metadata": {},
   "source": [
    "### \"Normal\" VAE"
   ]
  },
  {
   "cell_type": "code",
   "execution_count": 125,
   "id": "0d1ad6d7-1669-4f45-b411-d52210a16322",
   "metadata": {},
   "outputs": [],
   "source": [
    "class Encoder(nn.Module):\n",
    "    \n",
    "    def __init__(self, input_dim, hidden_dim, latent_dim):\n",
    "        super(Encoder, self).__init__()\n",
    "\n",
    "        self.FC_input = nn.Linear(input_dim, hidden_dim)\n",
    "        self.FC_input2 = nn.Linear(hidden_dim, hidden_dim)\n",
    "        self.FC_mean  = nn.Linear(hidden_dim, latent_dim)\n",
    "        self.FC_var   = nn.Linear (hidden_dim, latent_dim)\n",
    "        \n",
    "        self.LeakyReLU = nn.LeakyReLU(0.2)\n",
    "        \n",
    "        self.training = True\n",
    "        \n",
    "    def forward(self, x):\n",
    "        h_       = self.LeakyReLU(self.FC_input(x))\n",
    "        h_       = self.LeakyReLU(self.FC_input2(h_))\n",
    "        mean     = self.FC_mean(h_)\n",
    "        log_var  = self.FC_var(h_)                     # encoder produces mean and log of variance \n",
    "                                                       #             (i.e., parateters of simple tractable normal distribution \"q\"\n",
    "        \n",
    "        return mean, log_var"
   ]
  },
  {
   "cell_type": "code",
   "execution_count": 155,
   "id": "41068fed-6a1b-4ffc-9ec0-7745855cdc81",
   "metadata": {},
   "outputs": [],
   "source": [
    "class Model(nn.Module):\n",
    "    def __init__(self, Encoder, Decoder):\n",
    "        super(Model, self).__init__()\n",
    "        self.Encoder = Encoder\n",
    "        self.Decoder = Decoder\n",
    "        \n",
    "    def reparameterization(self, mean, var):\n",
    "        epsilon = torch.randn_like(var).to(device)        # sampling epsilon        \n",
    "        z = mean + var*epsilon                          # reparameterization trick\n",
    "        return z\n",
    "        \n",
    "                \n",
    "    def forward(self, x):\n",
    "        mean, log_var = self.Encoder(x)\n",
    "        z = self.reparameterization(mean, torch.exp(0.5 * log_var)) # takes exponential function (log var -> var)\n",
    "        x_hat = self.Decoder(z)\n",
    "        \n",
    "        return x_hat, mean, log_var"
   ]
  },
  {
   "cell_type": "code",
   "execution_count": 178,
   "id": "245baf4f-29bd-4490-9ea5-fad7d04cba09",
   "metadata": {},
   "outputs": [],
   "source": [
    "from torch.optim import Adam\n",
    "\n",
    "mseloss = nn.MSELoss(reduction='sum')\n",
    "\n",
    "def loss_function(x, x_hat, mean, log_var):\n",
    "    reproduction_loss = mseloss(x_hat, x)\n",
    "    KLD      = - 0.5 * torch.sum(1+ log_var - mean.pow(2) - log_var.exp())\n",
    "\n",
    "    return reproduction_loss + KLD\n",
    "\n",
    "\n",
    "optimizer = Adam(model.parameters(), lr=1e-3)"
   ]
  },
  {
   "cell_type": "code",
   "execution_count": 185,
   "id": "6a626335-7910-4458-9f1c-8f6a67962579",
   "metadata": {},
   "outputs": [],
   "source": [
    "batch_size=100\n",
    "dataset = TensorDataset(X)\n",
    "dataloader = DataLoader(dataset, batch_size=batch_size)\n",
    "\n",
    "encoder = Encoder(input_dim=n_features, hidden_dim=n_latent, latent_dim=n_latent)\n",
    "decoder = nn.Linear(n_latent, n_features)\n",
    "\n",
    "model = Model(Encoder=encoder, Decoder=decoder).to(device)"
   ]
  },
  {
   "cell_type": "code",
   "execution_count": 186,
   "id": "1efd3899-e6aa-4df9-8fb0-54e67bfb65c8",
   "metadata": {},
   "outputs": [
    {
     "name": "stdout",
     "output_type": "stream",
     "text": [
      "Start training VAE...\n",
      "\tEpoch 50 complete! \tAverage Loss:  776.0977300347222\n",
      "\tEpoch 100 complete! \tAverage Loss:  779.2550477430556\n",
      "\tEpoch 150 complete! \tAverage Loss:  775.8114626736111\n",
      "\tEpoch 200 complete! \tAverage Loss:  774.7838237847222\n",
      "\tEpoch 250 complete! \tAverage Loss:  775.9198090277778\n",
      "\tEpoch 300 complete! \tAverage Loss:  776.8782552083334\n",
      "\tEpoch 350 complete! \tAverage Loss:  774.9284114583334\n",
      "\tEpoch 400 complete! \tAverage Loss:  778.1596744791667\n",
      "\tEpoch 450 complete! \tAverage Loss:  777.1637760416667\n",
      "\tEpoch 500 complete! \tAverage Loss:  775.4198871527777\n"
     ]
    }
   ],
   "source": [
    "print(\"Start training VAE...\")\n",
    "\n",
    "reset_model_weights(model)\n",
    "\n",
    "# model.train()\n",
    "\n",
    "epochs=500\n",
    "for epoch in range(epochs):\n",
    "    overall_loss = 0\n",
    "    for batch_idx, x in enumerate(dataloader):\n",
    "        x = torch.cat(x)\n",
    "\n",
    "        optimizer.zero_grad()\n",
    "\n",
    "        x_hat, mean, log_var = model(x)\n",
    "        loss = loss_function(x, x_hat, mean, log_var)\n",
    "        \n",
    "        overall_loss += loss.item()\n",
    "        \n",
    "        loss.backward()\n",
    "        optimizer.step()\n",
    "    \n",
    "    if (epoch+1) % 50 == 0:\n",
    "        print(\"\\tEpoch\", epoch + 1, \"complete!\", \"\\tAverage Loss: \", overall_loss / (batch_idx*batch_size))"
   ]
  },
  {
   "cell_type": "code",
   "execution_count": 176,
   "id": "2047b1dc-f769-4edf-839b-15cbced61011",
   "metadata": {},
   "outputs": [
    {
     "data": {
      "text/plain": [
       "Text(0.5, 1.0, 'Reconstructing the output X')"
      ]
     },
     "execution_count": 176,
     "metadata": {},
     "output_type": "execute_result"
    },
    {
     "data": {
      "image/png": "[encoded data removed]",
      "text/plain": [
       "<Figure size 800x400 with 1 Axes>"
      ]
     },
     "metadata": {},
     "output_type": "display_data"
    }
   ],
   "source": [
    "plt.figure(figsize=(8, 4))\n",
    "\n",
    "plt.subplot(1, 2, 1)\n",
    "x = X.cpu().numpy().ravel()\n",
    "x_hat = model(X)[0].detach().cpu().numpy().ravel()\n",
    "plt.scatter(x,x_hat, s=1)\n",
    "plt.title('Reconstructing the output X')\n",
    "\n",
    "# plt.subplot(1, 2, 2)\n",
    "# z = Z.cpu().numpy().ravel()\n",
    "# z_hat = model.encode(X).cpu().detach().numpy().ravel()\n",
    "# plt.scatter(z,z_hat, s=1)\n",
    "# plt.title('Reconstructing the latent variables (code) Z')"
   ]
  },
  {
   "cell_type": "markdown",
   "id": "7f795b2b-a35b-4b54-9d8a-5084cb26af83",
   "metadata": {},
   "source": [
    "### \"Normal\" autoencoder"
   ]
  },
  {
   "cell_type": "code",
   "execution_count": 92,
   "id": "210a40af-e9a0-4bc9-8eb5-4a657f86de9b",
   "metadata": {},
   "outputs": [],
   "source": [
    "class AE(nn.Module):\n",
    "    def __init__(self, n_features, n_latent, n_hidden):\n",
    "        super().__init__()\n",
    "        self.encoder_hidden_layer = nn.Linear(\n",
    "            in_features=n_features, out_features=n_hidden\n",
    "        )\n",
    "        self.encoder_output_layer = nn.Linear(\n",
    "            in_features=n_hidden, out_features=n_latent\n",
    "        )\n",
    "        self.decoder = nn.Linear(\n",
    "            in_features=n_latent, out_features=n_features\n",
    "        )\n",
    "\n",
    "        \n",
    "    def encode(self, features):\n",
    "        \n",
    "        activation = self.encoder_hidden_layer(features)\n",
    "        activation = torch.relu(activation)\n",
    "        code = self.encoder_output_layer(activation)\n",
    "        code = torch.relu(code)\n",
    "        \n",
    "        return code\n",
    "    \n",
    "    \n",
    "    def decode(self, code):\n",
    "        \n",
    "        reconstructed = self.decoder(code)\n",
    "        return reconstructed\n",
    "    \n",
    "    \n",
    "    def forward(self, features):\n",
    "        code = self.encode(features)\n",
    "        return self.decode(code)"
   ]
  },
  {
   "cell_type": "code",
   "execution_count": 93,
   "id": "29156cc8-97a7-4144-915d-60f5768ec3bd",
   "metadata": {},
   "outputs": [],
   "source": [
    "dataset = TensorDataset(X)\n",
    "dataloader = DataLoader(dataset, batch_size=100)"
   ]
  },
  {
   "cell_type": "code",
   "execution_count": 94,
   "id": "cf681c74-50b5-4246-8e36-56522d2480a9",
   "metadata": {},
   "outputs": [],
   "source": [
    "# create a model from `AE` autoencoder class\n",
    "# load it to the specified device, either gpu or cpu\n",
    "model = AE(n_features=n_features, n_latent=n_latent, n_hidden=int(n_latent*2)).to(device)\n",
    "\n",
    "# create an optimizer object\n",
    "# Adam optimizer with learning rate 1e-3\n",
    "optimizer = optim.Adam(model.parameters(), lr=5e-3)\n",
    "\n",
    "# mean-squared error loss\n",
    "criterion = nn.MSELoss()"
   ]
  },
  {
   "cell_type": "code",
   "execution_count": 95,
   "id": "11026158-f3ad-4d6d-84ad-891119d9903c",
   "metadata": {},
   "outputs": [],
   "source": [
    "reset_model_weights(model)\n"
   ]
  },
  {
   "cell_type": "code",
   "execution_count": 96,
   "id": "27d54de6-8775-48c8-aaa7-6fa57145c7a3",
   "metadata": {},
   "outputs": [
    {
     "name": "stdout",
     "output_type": "stream",
     "text": [
      "epoch : 1/100, loss = 34.171426\n"
     ]
    }
   ],
   "source": [
    "epochs = 100\n",
    "reset_model_weights(model)\n",
    "\n",
    "for epoch in range(epochs): \n",
    "    loss = 0\n",
    "    for batch_features in dataloader:\n",
    "        # reshape mini-batch data to [N, 784] matrix\n",
    "        # load it to the active device\n",
    "        batch_features = torch.cat(batch_features).view(-1, n_features).to(device)\n",
    "        \n",
    "        # reset the gradients back to zero\n",
    "        # PyTorch accumulates gradients on subsequent backward passes\n",
    "        optimizer.zero_grad()\n",
    "        \n",
    "        # compute reconstructions\n",
    "        outputs = model(batch_features)\n",
    "        \n",
    "        # compute training reconstruction loss\n",
    "        train_loss = criterion(outputs, batch_features) + 0.01 * torch.norm(model.decoder.weight, 1)\n",
    "        \n",
    "        # compute accumulated gradients\n",
    "        train_loss.backward()\n",
    "        \n",
    "        # perform parameter update based on current gradients\n",
    "        optimizer.step()\n",
    "        \n",
    "        # add the mini-batch training loss to epoch loss\n",
    "        loss += train_loss.item()\n",
    "    \n",
    "    # compute the epoch training loss\n",
    "    loss = loss / len(dataloader)\n",
    "    \n",
    "    # display the epoch training loss\n",
    "    if epoch % 100 == 0:\n",
    "        print(\"epoch : {}/{}, loss = {:.6f}\".format(epoch + 1, epochs, loss))\n",
    "    "
   ]
  },
  {
   "cell_type": "code",
   "execution_count": 97,
   "id": "f295ad38-99d3-470a-a464-eb8d8858b2cb",
   "metadata": {},
   "outputs": [
    {
     "data": {
      "text/plain": [
       "Text(0.5, 1.0, 'Reconstructing the latent variables (code) Z')"
      ]
     },
     "execution_count": 97,
     "metadata": {},
     "output_type": "execute_result"
    },
    {
     "data": {
      "image/png": "[encoded data removed]",
      "text/plain": [
       "<Figure size 800x400 with 2 Axes>"
      ]
     },
     "metadata": {},
     "output_type": "display_data"
    }
   ],
   "source": [
    "plt.figure(figsize=(8, 4))\n",
    "\n",
    "plt.subplot(1, 2, 1)\n",
    "x = X.cpu().numpy().ravel()\n",
    "x_hat = model(X).detach().cpu().numpy().ravel()\n",
    "plt.scatter(x,x_hat, s=1)\n",
    "plt.title('Reconstructing the output X')\n",
    "\n",
    "plt.subplot(1, 2, 2)\n",
    "z = Z.cpu().numpy().ravel()\n",
    "z_hat = model.encode(X).cpu().detach().numpy().ravel()\n",
    "plt.scatter(z,z_hat, s=1)\n",
    "plt.title('Reconstructing the latent variables (code) Z')"
   ]
  },
  {
   "cell_type": "code",
   "execution_count": null,
   "id": "c0d478da-10a5-4bc3-bbd4-6200f2978a8e",
   "metadata": {},
   "outputs": [],
   "source": []
  },
  {
   "cell_type": "code",
   "execution_count": null,
   "id": "5c71c16c-fc1f-466f-a0e1-2bdcf84c3a1a",
   "metadata": {},
   "outputs": [],
   "source": []
  },
  {
   "cell_type": "code",
   "execution_count": null,
   "id": "dee1a9b7-67ed-4200-a75c-8a6613e06cf1",
   "metadata": {},
   "outputs": [],
   "source": []
  },
  {
   "cell_type": "code",
   "execution_count": null,
   "id": "c928f8af-3bd2-4dc7-8b70-9298b4c692b6",
   "metadata": {},
   "outputs": [],
   "source": []
  },
  {
   "cell_type": "code",
   "execution_count": null,
   "id": "023f3c39-b1bb-48b2-8fb4-7046ece31383",
   "metadata": {},
   "outputs": [],
   "source": []
  },
  {
   "cell_type": "code",
   "execution_count": null,
   "id": "1a4c8c43-80ef-46d3-9c03-96e77f60c86d",
   "metadata": {},
   "outputs": [],
   "source": []
  },
  {
   "cell_type": "code",
   "execution_count": null,
   "id": "deca8e35-b2ea-442e-9bf4-374d9b486f4e",
   "metadata": {},
   "outputs": [],
   "source": []
  },
  {
   "cell_type": "code",
   "execution_count": null,
   "id": "295bd02e-69bf-4932-b532-45c168ff71a1",
   "metadata": {},
   "outputs": [],
   "source": []
  },
  {
   "cell_type": "code",
   "execution_count": null,
   "id": "269a68f6-321b-40ab-ab32-f9076742318f",
   "metadata": {},
   "outputs": [],
   "source": []
  },
  {
   "cell_type": "code",
   "execution_count": null,
   "id": "59254ab4-5455-4a4f-9130-6bfafdd05d8c",
   "metadata": {},
   "outputs": [],
   "source": []
  },
  {
   "cell_type": "code",
   "execution_count": null,
   "id": "6a0c0aca-17ec-4e46-b426-c12411b1b45e",
   "metadata": {},
   "outputs": [],
   "source": []
  },
  {
   "cell_type": "markdown",
   "id": "3931e382-a476-40aa-9073-1fa0ac39dc60",
   "metadata": {},
   "source": [
    "### Create a Pyro model"
   ]
  },
  {
   "cell_type": "code",
   "execution_count": 67,
   "id": "d04715bb-5936-44cf-9da2-b3979019e901",
   "metadata": {},
   "outputs": [],
   "source": [
    "class Encoder(nn.Module):\n",
    "    def __init__(self, n_features, z_dim, hidden_dim):\n",
    "        super().__init__()\n",
    "        # setup the three linear transformations used\n",
    "        self.fc1 = nn.Linear(n_features, hidden_dim)\n",
    "        self.fc21 = nn.Linear(hidden_dim, z_dim)\n",
    "        self.fc22 = nn.Linear(hidden_dim, z_dim)\n",
    "        # setup the non-linearities\n",
    "        self.softplus = nn.Softplus()\n",
    "\n",
    "    def forward(self, x):\n",
    "        # define the forward computation on the image x\n",
    "        # first shape the mini-batch to have pixels in the rightmost dimension\n",
    "        # then compute the hidden units\n",
    "        hidden = self.softplus(self.fc1(x))\n",
    "        # then return a mean vector and a (positive) square root covariance\n",
    "        # each of size batch_size x z_dim\n",
    "        z_loc = self.fc21(hidden)\n",
    "        z_scale = torch.exp(self.fc22(hidden))\n",
    "        return z_loc, z_scale"
   ]
  },
  {
   "cell_type": "code",
   "execution_count": 93,
   "id": "d1a606ea-ac5a-4747-84b9-49543bb5c3a3",
   "metadata": {},
   "outputs": [],
   "source": [
    "class CausalLDAE():\n",
    "    \n",
    "    def __init__(self, n_perturb, n_latent, n_features):\n",
    "        \n",
    "        self.n_perturb = n_perturb\n",
    "        self.n_latent = n_latent\n",
    "        self.n_features = n_features\n",
    "                \n",
    "        # Define encoder\n",
    "        self.encoder = Encoder(n_features, n_latent, int(n_latent/2)).to(device)\n",
    "        \n",
    "        # Define decoder\n",
    "        self.decoder = nn.Linear(n_latent, n_features).to(device)\n",
    "\n",
    "    def model(self, x, p):\n",
    "        \n",
    "        pyro.module(\"decoder\", self.decoder)\n",
    "        \n",
    "        # Sample the variance used for observed data generation\n",
    "        sigma = pyro.sample(\"sigma\", dist.Uniform(tfn(0.), tfn(10.)))\n",
    "\n",
    "        # Sample beta\n",
    "        prior_es_mean = torch.zeros((self.n_perturb, self.n_latent), device=device)\n",
    "        prior_es_var = torch.ones((self.n_perturb, self.n_latent), device=device)\n",
    "        beta = pyro.sample('beta', dist.Normal(prior_es_mean, prior_es_var).to_event(2))\n",
    "\n",
    "        # Sample the mask probabilities\n",
    "        prior_a = torch.ones((self.n_perturb, self.n_latent), device=device)\n",
    "        prior_b = torch.ones((self.n_perturb, self.n_latent), device=device)*n_perturb\n",
    "        mask_prob = pyro.sample('mask_prob', dist.Beta(prior_a, prior_b).to_event(2))\n",
    "\n",
    "        # Sample the mask\n",
    "        mask = pyro.sample('mask', dist.ContinuousBernoulli(probs=mask_prob).to_event(2))\n",
    "\n",
    "        # Compute means by masking the effects\n",
    "        masked_beta = beta*mask \n",
    "        \n",
    "        with pyro.plate(\"data\", x.shape[0]):\n",
    "            # Define mean and variance for z's\n",
    "            z_loc = p@masked_beta\n",
    "            z_scale = x.new_ones(torch.Size((x.shape[0], self.n_latent)))      \n",
    "\n",
    "            z = pyro.sample(\"latent\", dist.Normal(z_loc, z_scale).to_event(1))\n",
    "            \n",
    "            obs_loc = self.decoder(z)\n",
    "            pyro.sample(\"obs\", dist.Normal(obs_loc, sigma).to_event(1), obs=x)\n",
    "    \n",
    "    def guide(self, x, p):\n",
    "        \n",
    "        pyro.module(\"encoder\", self.encoder)\n",
    "        \n",
    "        # Sample the sigma\n",
    "        sigma_loc = pyro.param('sigma_loc', torch.tensor(1., device=device), constraint=constraints.positive)\n",
    "        sigma = pyro.sample(\"sigma\", dist.Normal(sigma_loc, torch.tensor(0.05)))\n",
    "\n",
    "        # Sample beta\n",
    "        q_es_mean = pyro.param(\n",
    "            \"q_es_mean\", \n",
    "            torch.zeros((self.n_perturb, self.n_latent), device=device))\n",
    "        q_es_var = pyro.param(\n",
    "            \"q_es_var\", \n",
    "            torch.ones((self.n_perturb, self.n_latent), device=device),\n",
    "            constraint=constraints.positive)\n",
    "        beta = pyro.sample('beta', dist.Normal(q_es_mean, q_es_var).to_event(2))\n",
    "\n",
    "        # Sample the mask probabilities\n",
    "        q_mp = pyro.param('q_mp', torch.ones((self.n_perturb, self.n_latent), device=device)/tfn(self.n_perturb), constraint=constraints.unit_interval)\n",
    "        mask_prob = pyro.sample('mask_prob', dist.Delta(q_mp).to_event(2))\n",
    "\n",
    "        # Sample the mask itself\n",
    "        q_p = pyro.param('q_p', torch.ones((self.n_perturb, self.n_latent), device=device)/tfn(self.n_perturb), constraint=constraints.unit_interval)\n",
    "        mask = pyro.sample('mask', dist.ContinuousBernoulli(probs=q_p).to_event(2))\n",
    "                \n",
    "        with pyro.plate(\"data\", x.shape[0]):\n",
    "            # use the encoder to get the parameters used to define q(z|x)\n",
    "            \n",
    "            z_shift = p@beta\n",
    "            z_loc, z_scale = self.encoder(x)\n",
    "            pyro.sample(\"latent\", dist.Normal(z_loc+z_shift, z_scale).to_event(1))\n",
    "            "
   ]
  },
  {
   "cell_type": "markdown",
   "id": "63d1b26b-7999-4857-8e02-a78364fc47ef",
   "metadata": {},
   "source": [
    "### Train the Pyro model"
   ]
  },
  {
   "cell_type": "code",
   "execution_count": 94,
   "id": "86d50ef7-0895-4737-8bb8-c5167e7e516a",
   "metadata": {},
   "outputs": [],
   "source": [
    "cldae = CausalLDAE(n_perturb, n_latent, n_features)"
   ]
  },
  {
   "cell_type": "code",
   "execution_count": 102,
   "id": "50350e2e-28ca-4fcd-bcaa-bf4eb35c93ee",
   "metadata": {},
   "outputs": [],
   "source": [
    "optimizer = Adam({\"lr\": 1.0e-4})\n"
   ]
  },
  {
   "cell_type": "code",
   "execution_count": 103,
   "id": "bdf131d9-f251-4f73-a22e-cb9900098c6c",
   "metadata": {},
   "outputs": [],
   "source": [
    "svi = SVI(cldae.model, cldae.guide, optimizer, loss=Trace_ELBO())\n"
   ]
  },
  {
   "cell_type": "code",
   "execution_count": 104,
   "id": "4f2922fc-015a-45f8-92f0-dcc928dbc908",
   "metadata": {},
   "outputs": [
    {
     "name": "stdout",
     "output_type": "stream",
     "text": [
      "[iteration 0001] loss: 191.7292\n",
      "[iteration 0101] loss: 136.6374\n",
      "[iteration 0201] loss: 163.7305\n",
      "[iteration 0301] loss: 150.4883\n",
      "[iteration 0401] loss: 112.8856\n",
      "[iteration 0501] loss: 133.5374\n",
      "[iteration 0601] loss: 116.5425\n",
      "[iteration 0701] loss: 129.3682\n",
      "[iteration 0801] loss: 117.5032\n",
      "[iteration 0901] loss: 113.8185\n"
     ]
    }
   ],
   "source": [
    "pyro.clear_param_store()\n",
    "for j in range(5000):\n",
    "    # calculate the loss and take a gradient step\n",
    "    loss = svi.step(X, P)\n",
    "    if j % 100 == 0:\n",
    "        print(\"[iteration %04d] loss: %.4f\" % (j + 1, loss / len(X)))"
   ]
  },
  {
   "cell_type": "code",
   "execution_count": null,
   "id": "6e2515ce-8ad4-4458-b570-34f003e3af89",
   "metadata": {},
   "outputs": [],
   "source": []
  },
  {
   "cell_type": "code",
   "execution_count": null,
   "id": "fae5db03-c430-4f72-beb4-a72cdda53270",
   "metadata": {},
   "outputs": [],
   "source": []
  },
  {
   "cell_type": "code",
   "execution_count": null,
   "id": "1b6419de-271e-422f-9202-c7d512e3fed5",
   "metadata": {},
   "outputs": [],
   "source": []
  },
  {
   "cell_type": "code",
   "execution_count": null,
   "id": "a230ebe7-f2ba-4929-b704-270e9c8140f4",
   "metadata": {},
   "outputs": [],
   "source": []
  },
  {
   "cell_type": "code",
   "execution_count": null,
   "id": "389ceed3-b266-48e2-9d11-61af3fe68c3b",
   "metadata": {},
   "outputs": [],
   "source": []
  },
  {
   "cell_type": "markdown",
   "id": "9b695f0d-966d-4fde-888b-3160df627e99",
   "metadata": {},
   "source": [
    "### SUPER simple SPARSE bayesian regression"
   ]
  },
  {
   "cell_type": "code",
   "execution_count": 18,
   "id": "f0636e8c-f1b7-41d6-a48c-ecc3d3a8da55",
   "metadata": {},
   "outputs": [],
   "source": [
    "beta = 1\n",
    "n= 1000\n",
    "labels = np.random.choice(2, size=n)\n",
    "means = beta*labels\n",
    "data = stats.norm.rvs(means, 1)\n",
    "\n",
    "labels = torch.tensor(labels)#.cuda()\n",
    "data = torch.tensor(data)#.cuda()\n",
    "device = labels.device\n",
    "\n"
   ]
  },
  {
   "cell_type": "code",
   "execution_count": 19,
   "id": "7ca3b7e6-52a1-40d5-b3bb-33db5c366874",
   "metadata": {},
   "outputs": [],
   "source": [
    "def model(data, label):\n",
    "    \n",
    "    # Effect size \n",
    "    prior_es_mean = tfn(0)\n",
    "    prior_es_variance = tfn(10)\n",
    "    effect_size = pyro.sample('es', dist.Normal(prior_es_mean, prior_es_variance))\n",
    "    \n",
    "    # Mask probability\n",
    "    \n",
    "    \n",
    "    means = label*effect_size\n",
    "    \n",
    "    with pyro.plate(\"data\", len(data)):\n",
    "        pyro.sample('x', dist.Normal(means, tfn(1.)), obs=data)\n",
    "    \n",
    "def guide(x, label):\n",
    "    \n",
    "    mean_q = pyro.param('mean_q', tfn(0.))\n",
    "    var_q = pyro.param('var_q', tfn(1.), constraint=constraints.positive)\n",
    "    \n",
    "    pyro.sample('es', dist.Normal(mean_q, var_q))"
   ]
  },
  {
   "cell_type": "code",
   "execution_count": 20,
   "id": "0468caec-0458-481f-841e-4551f62bcf0f",
   "metadata": {},
   "outputs": [],
   "source": [
    "adam_params = {\"lr\": 0.001, \"betas\": (0.90, 0.999)}\n",
    "optimizer = Adam(adam_params)"
   ]
  },
  {
   "cell_type": "code",
   "execution_count": 21,
   "id": "0058c4ad-6001-4f2c-9726-c00a597849b8",
   "metadata": {},
   "outputs": [],
   "source": [
    "svi = SVI(model, guide, optimizer, loss=Trace_ELBO())\n"
   ]
  },
  {
   "cell_type": "code",
   "execution_count": 26,
   "id": "a18af9d8-77fd-4871-ae14-4b18e739502a",
   "metadata": {},
   "outputs": [],
   "source": [
    "n_steps = 5000\n",
    "# do gradient steps\n",
    "for step in range(n_steps):\n",
    "    svi.step(data, labels)"
   ]
  },
  {
   "cell_type": "code",
   "execution_count": 22,
   "id": "22906bf8-1cb5-4c2d-a71f-b7dd99d886d6",
   "metadata": {},
   "outputs": [
    {
     "data": {
      "text/plain": [
       "LinregressResult(slope=1.1774769409629444, intercept=-0.0955352396145398, rvalue=0.4942095440947383, pvalue=1.0464228499301985e-62, stderr=0.06556424736958555, intercept_stderr=0.04686811968102247)"
      ]
     },
     "execution_count": 22,
     "metadata": {},
     "output_type": "execute_result"
    }
   ],
   "source": [
    "stats.linregress(labels.to('cpu'), data.to('cpu'))"
   ]
  },
  {
   "cell_type": "code",
   "execution_count": 23,
   "id": "e96c7b7b-2f67-40f3-9012-8b561a7a670a",
   "metadata": {},
   "outputs": [
    {
     "data": {
      "text/plain": [
       "LinregressResult(slope=1.1774769409629444, intercept=-0.0955352396145398, rvalue=0.4942095440947383, pvalue=1.0464228499301985e-62, stderr=0.06556424736958555, intercept_stderr=0.04686811968102247)"
      ]
     },
     "execution_count": 23,
     "metadata": {},
     "output_type": "execute_result"
    }
   ],
   "source": [
    "stats.linregress(labels.to('cpu'), data.to('cpu'))"
   ]
  },
  {
   "cell_type": "code",
   "execution_count": null,
   "id": "31d0ef82-f87a-446d-a471-8baea0654189",
   "metadata": {},
   "outputs": [],
   "source": []
  },
  {
   "cell_type": "code",
   "execution_count": null,
   "id": "ce16c139-1b4a-46fd-9253-e9c5732ac0ed",
   "metadata": {},
   "outputs": [],
   "source": []
  },
  {
   "cell_type": "code",
   "execution_count": null,
   "id": "5b0806ea-72c9-4289-aa72-da2581e711b0",
   "metadata": {},
   "outputs": [],
   "source": []
  },
  {
   "cell_type": "code",
   "execution_count": 24,
   "id": "fccfbcf3-90f6-41e9-a47c-156f57533a66",
   "metadata": {},
   "outputs": [
    {
     "ename": "KeyError",
     "evalue": "'mean_q'",
     "output_type": "error",
     "traceback": [
      "\u001b[0;31m---------------------------------------------------------------------------\u001b[0m",
      "\u001b[0;31mKeyError\u001b[0m                                  Traceback (most recent call last)",
      "\u001b[0;32m<ipython-input-24-3c5d7597163d>\u001b[0m in \u001b[0;36m<module>\u001b[0;34m\u001b[0m\n\u001b[0;32m----> 1\u001b[0;31m \u001b[0mprint\u001b[0m\u001b[0;34m(\u001b[0m\u001b[0mn\u001b[0m\u001b[0;34m,\u001b[0m \u001b[0mpyro\u001b[0m\u001b[0;34m.\u001b[0m\u001b[0mparam\u001b[0m\u001b[0;34m(\u001b[0m\u001b[0;34m'mean_q'\u001b[0m\u001b[0;34m)\u001b[0m\u001b[0;34m.\u001b[0m\u001b[0mitem\u001b[0m\u001b[0;34m(\u001b[0m\u001b[0;34m)\u001b[0m\u001b[0;34m,\u001b[0m \u001b[0mpyro\u001b[0m\u001b[0;34m.\u001b[0m\u001b[0mparam\u001b[0m\u001b[0;34m(\u001b[0m\u001b[0;34m'var_q'\u001b[0m\u001b[0;34m)\u001b[0m\u001b[0;34m.\u001b[0m\u001b[0mitem\u001b[0m\u001b[0;34m(\u001b[0m\u001b[0;34m)\u001b[0m\u001b[0;34m)\u001b[0m\u001b[0;34m\u001b[0m\u001b[0;34m\u001b[0m\u001b[0m\n\u001b[0m",
      "\u001b[0;32m/opt/conda/lib/python3.8/site-packages/pyro/primitives.py\u001b[0m in \u001b[0;36mparam\u001b[0;34m(name, init_tensor, constraint, event_dim)\u001b[0m\n\u001b[1;32m     76\u001b[0m     \u001b[0;31m# Note effectful(-) requires the double passing of name below.\u001b[0m\u001b[0;34m\u001b[0m\u001b[0;34m\u001b[0m\u001b[0;34m\u001b[0m\u001b[0m\n\u001b[1;32m     77\u001b[0m     \u001b[0margs\u001b[0m \u001b[0;34m=\u001b[0m \u001b[0;34m(\u001b[0m\u001b[0mname\u001b[0m\u001b[0;34m,\u001b[0m\u001b[0;34m)\u001b[0m \u001b[0;32mif\u001b[0m \u001b[0minit_tensor\u001b[0m \u001b[0;32mis\u001b[0m \u001b[0;32mNone\u001b[0m \u001b[0;32melse\u001b[0m \u001b[0;34m(\u001b[0m\u001b[0mname\u001b[0m\u001b[0;34m,\u001b[0m \u001b[0minit_tensor\u001b[0m\u001b[0;34m)\u001b[0m\u001b[0;34m\u001b[0m\u001b[0;34m\u001b[0m\u001b[0m\n\u001b[0;32m---> 78\u001b[0;31m     \u001b[0;32mreturn\u001b[0m \u001b[0m_param\u001b[0m\u001b[0;34m(\u001b[0m\u001b[0;34m*\u001b[0m\u001b[0margs\u001b[0m\u001b[0;34m,\u001b[0m \u001b[0mconstraint\u001b[0m\u001b[0;34m=\u001b[0m\u001b[0mconstraint\u001b[0m\u001b[0;34m,\u001b[0m \u001b[0mevent_dim\u001b[0m\u001b[0;34m=\u001b[0m\u001b[0mevent_dim\u001b[0m\u001b[0;34m,\u001b[0m \u001b[0mname\u001b[0m\u001b[0;34m=\u001b[0m\u001b[0mname\u001b[0m\u001b[0;34m)\u001b[0m\u001b[0;34m\u001b[0m\u001b[0;34m\u001b[0m\u001b[0m\n\u001b[0m\u001b[1;32m     79\u001b[0m \u001b[0;34m\u001b[0m\u001b[0m\n\u001b[1;32m     80\u001b[0m \u001b[0;34m\u001b[0m\u001b[0m\n",
      "\u001b[0;32m/opt/conda/lib/python3.8/site-packages/pyro/poutine/runtime.py\u001b[0m in \u001b[0;36m_fn\u001b[0;34m(*args, **kwargs)\u001b[0m\n\u001b[1;32m    260\u001b[0m \u001b[0;34m\u001b[0m\u001b[0m\n\u001b[1;32m    261\u001b[0m         \u001b[0;32mif\u001b[0m \u001b[0;32mnot\u001b[0m \u001b[0mam_i_wrapped\u001b[0m\u001b[0;34m(\u001b[0m\u001b[0;34m)\u001b[0m\u001b[0;34m:\u001b[0m\u001b[0;34m\u001b[0m\u001b[0;34m\u001b[0m\u001b[0m\n\u001b[0;32m--> 262\u001b[0;31m             \u001b[0;32mreturn\u001b[0m \u001b[0mfn\u001b[0m\u001b[0;34m(\u001b[0m\u001b[0;34m*\u001b[0m\u001b[0margs\u001b[0m\u001b[0;34m,\u001b[0m \u001b[0;34m**\u001b[0m\u001b[0mkwargs\u001b[0m\u001b[0;34m)\u001b[0m\u001b[0;34m\u001b[0m\u001b[0;34m\u001b[0m\u001b[0m\n\u001b[0m\u001b[1;32m    263\u001b[0m         \u001b[0;32melse\u001b[0m\u001b[0;34m:\u001b[0m\u001b[0;34m\u001b[0m\u001b[0;34m\u001b[0m\u001b[0m\n\u001b[1;32m    264\u001b[0m             msg = {\n",
      "\u001b[0;32m/opt/conda/lib/python3.8/site-packages/pyro/params/param_store.py\u001b[0m in \u001b[0;36mget_param\u001b[0;34m(self, name, init_tensor, constraint, event_dim)\u001b[0m\n\u001b[1;32m    213\u001b[0m         \"\"\"\n\u001b[1;32m    214\u001b[0m         \u001b[0;32mif\u001b[0m \u001b[0minit_tensor\u001b[0m \u001b[0;32mis\u001b[0m \u001b[0;32mNone\u001b[0m\u001b[0;34m:\u001b[0m\u001b[0;34m\u001b[0m\u001b[0;34m\u001b[0m\u001b[0m\n\u001b[0;32m--> 215\u001b[0;31m             \u001b[0;32mreturn\u001b[0m \u001b[0mself\u001b[0m\u001b[0;34m[\u001b[0m\u001b[0mname\u001b[0m\u001b[0;34m]\u001b[0m\u001b[0;34m\u001b[0m\u001b[0;34m\u001b[0m\u001b[0m\n\u001b[0m\u001b[1;32m    216\u001b[0m         \u001b[0;32melse\u001b[0m\u001b[0;34m:\u001b[0m\u001b[0;34m\u001b[0m\u001b[0;34m\u001b[0m\u001b[0m\n\u001b[1;32m    217\u001b[0m             \u001b[0;32mreturn\u001b[0m \u001b[0mself\u001b[0m\u001b[0;34m.\u001b[0m\u001b[0msetdefault\u001b[0m\u001b[0;34m(\u001b[0m\u001b[0mname\u001b[0m\u001b[0;34m,\u001b[0m \u001b[0minit_tensor\u001b[0m\u001b[0;34m,\u001b[0m \u001b[0mconstraint\u001b[0m\u001b[0;34m)\u001b[0m\u001b[0;34m\u001b[0m\u001b[0;34m\u001b[0m\u001b[0m\n",
      "\u001b[0;32m/opt/conda/lib/python3.8/site-packages/pyro/params/param_store.py\u001b[0m in \u001b[0;36m__getitem__\u001b[0;34m(self, name)\u001b[0m\n\u001b[1;32m    104\u001b[0m         \u001b[0mGet\u001b[0m \u001b[0mthe\u001b[0m \u001b[0;34m*\u001b[0m\u001b[0mconstrained\u001b[0m\u001b[0;34m*\u001b[0m \u001b[0mvalue\u001b[0m \u001b[0mof\u001b[0m \u001b[0ma\u001b[0m \u001b[0mnamed\u001b[0m \u001b[0mparameter\u001b[0m\u001b[0;34m.\u001b[0m\u001b[0;34m\u001b[0m\u001b[0;34m\u001b[0m\u001b[0m\n\u001b[1;32m    105\u001b[0m         \"\"\"\n\u001b[0;32m--> 106\u001b[0;31m         \u001b[0munconstrained_value\u001b[0m \u001b[0;34m=\u001b[0m \u001b[0mself\u001b[0m\u001b[0;34m.\u001b[0m\u001b[0m_params\u001b[0m\u001b[0;34m[\u001b[0m\u001b[0mname\u001b[0m\u001b[0;34m]\u001b[0m\u001b[0;34m\u001b[0m\u001b[0;34m\u001b[0m\u001b[0m\n\u001b[0m\u001b[1;32m    107\u001b[0m \u001b[0;34m\u001b[0m\u001b[0m\n\u001b[1;32m    108\u001b[0m         \u001b[0;31m# compute the constrained value\u001b[0m\u001b[0;34m\u001b[0m\u001b[0;34m\u001b[0m\u001b[0;34m\u001b[0m\u001b[0m\n",
      "\u001b[0;31mKeyError\u001b[0m: 'mean_q'"
     ]
    }
   ],
   "source": [
    "print(n, pyro.param('mean_q').item(), pyro.param('var_q').item())"
   ]
  },
  {
   "cell_type": "code",
   "execution_count": null,
   "id": "7a566bc6-43b1-4590-acc5-c2fc058ffebc",
   "metadata": {},
   "outputs": [],
   "source": []
  },
  {
   "cell_type": "code",
   "execution_count": null,
   "id": "beca42ad-ee9d-42da-9b79-5638e9381008",
   "metadata": {},
   "outputs": [],
   "source": []
  },
  {
   "cell_type": "code",
   "execution_count": 129,
   "id": "39feb435-452f-49c1-92b8-c7d10e28d027",
   "metadata": {},
   "outputs": [
    {
     "name": "stdout",
     "output_type": "stream",
     "text": [
      "10000 2.9410760402679443 0.5252532362937927\n"
     ]
    }
   ],
   "source": [
    "print(n, pyro.param('mean_q').item(), pyro.param('var_q').item())"
   ]
  },
  {
   "cell_type": "code",
   "execution_count": 124,
   "id": "49b1e8d5-fcf4-4247-b887-f17c9f581a7a",
   "metadata": {},
   "outputs": [
    {
     "name": "stdout",
     "output_type": "stream",
     "text": [
      "1000 2.9311881065368652 0.5552800297737122\n"
     ]
    }
   ],
   "source": [
    "# print(n, pyro.param('mean_q').item(), pyro.param('var_q').item())"
   ]
  },
  {
   "cell_type": "code",
   "execution_count": null,
   "id": "87afe081-2352-46bf-bf03-9755b66f8a6f",
   "metadata": {},
   "outputs": [],
   "source": []
  },
  {
   "cell_type": "code",
   "execution_count": null,
   "id": "614ff69e-fddb-45a6-b9eb-ce1842abdaf7",
   "metadata": {},
   "outputs": [],
   "source": []
  },
  {
   "cell_type": "code",
   "execution_count": null,
   "id": "75c0278f-2e99-4998-8419-0c460fbd50ef",
   "metadata": {},
   "outputs": [],
   "source": []
  },
  {
   "cell_type": "code",
   "execution_count": null,
   "id": "30f1560d-a084-4473-bd95-d5dc00a06d7b",
   "metadata": {},
   "outputs": [],
   "source": []
  },
  {
   "cell_type": "code",
   "execution_count": 116,
   "id": "9afe6f22-010b-49f8-879d-d09649675ab5",
   "metadata": {},
   "outputs": [
    {
     "name": "stdout",
     "output_type": "stream",
     "text": [
      "1000 2.922926902770996 0.5885440111160278\n"
     ]
    }
   ],
   "source": [
    "print('1000', pyro.param('mean_q').item(), pyro.param('var_q').item())"
   ]
  },
  {
   "cell_type": "code",
   "execution_count": null,
   "id": "3358e76f-d359-4126-b9d2-ed211653db86",
   "metadata": {},
   "outputs": [],
   "source": []
  },
  {
   "cell_type": "code",
   "execution_count": null,
   "id": "9818b4cb-40fc-4852-baf7-c4cdf37e1bf2",
   "metadata": {},
   "outputs": [],
   "source": []
  },
  {
   "cell_type": "code",
   "execution_count": null,
   "id": "26f43c42-ff8d-49dd-b053-f68cbf2d811d",
   "metadata": {},
   "outputs": [],
   "source": [
    " def __init__(self, in_features, out_features):\n",
    "        super().__init__()\n",
    "        self.linear = PyroModule[nn.Linear](in_features, out_features)\n",
    "        self.linear.weight = PyroSample(dist.Normal(0., 1.).expand([out_features, in_features]).to_event(2))\n",
    "        self.linear.bias = PyroSample(dist.Normal(0., 10.).expand([out_features]).to_event(1))"
   ]
  },
  {
   "cell_type": "code",
   "execution_count": null,
   "id": "f29e0ad2-f1c4-4616-b491-afa71442acf3",
   "metadata": {},
   "outputs": [],
   "source": [
    "def model(X):\n",
    "    \n",
    "    _beta = pyro.sample(\"beta\", dist.Normal(0, 1))\n",
    "    \n",
    "    \n",
    "    a = pyro.sample(\"a\", dist.Normal(0., 10.))\n",
    "    b_a = pyro.sample(\"bA\", dist.Normal(0., 1.))\n",
    "    b_r = pyro.sample(\"bR\", dist.Normal(0., 1.))\n",
    "    b_ar = pyro.sample(\"bAR\", dist.Normal(0., 1.))\n",
    "    sigma = pyro.sample(\"sigma\", dist.Uniform(0., 10.))\n",
    "    mean = a + b_a * is_cont_africa + b_r * ruggedness + b_ar * is_cont_africa * ruggedness\n",
    "    with pyro.plate(\"data\", len(ruggedness)):\n",
    "        pyro.sample(\"obs\", dist.Normal(mean, sigma), obs=log_gdp)"
   ]
  },
  {
   "cell_type": "code",
   "execution_count": 159,
   "id": "747310ec-53be-48fb-9c7f-7381e7d3dad4",
   "metadata": {},
   "outputs": [],
   "source": [
    "def model(is_cont_africa, ruggedness, log_gdp):\n",
    "    a = pyro.sample(\"a\", dist.Normal(0., 10.))\n",
    "    b_a = pyro.sample(\"bA\", dist.Normal(0., 1.))\n",
    "    b_r = pyro.sample(\"bR\", dist.Normal(0., 1.))\n",
    "    b_ar = pyro.sample(\"bAR\", dist.Normal(0., 1.))\n",
    "    sigma = pyro.sample(\"sigma\", dist.Uniform(0., 10.))\n",
    "    mean = a + b_a * is_cont_africa + b_r * ruggedness + b_ar * is_cont_africa * ruggedness\n",
    "    with pyro.plate(\"data\", len(ruggedness)):\n",
    "        pyro.sample(\"obs\", dist.Normal(mean, sigma), obs=log_gdp)"
   ]
  },
  {
   "cell_type": "code",
   "execution_count": null,
   "id": "4932b00d-7c7c-43a9-a61e-c569e461f040",
   "metadata": {},
   "outputs": [],
   "source": []
  },
  {
   "cell_type": "code",
   "execution_count": null,
   "id": "ba183ba9-7e29-4146-bb8e-679f09004efa",
   "metadata": {},
   "outputs": [],
   "source": []
  },
  {
   "cell_type": "code",
   "execution_count": 87,
   "id": "a1df8f5f-8b2e-463f-a266-faaac1a2f870",
   "metadata": {},
   "outputs": [
    {
     "ename": "ValueError",
     "evalue": "matmul: Input operand 0 does not have enough dimensions (has 0, gufunc core with signature (n?,k),(k,m?)->(n?,m?) requires 1)",
     "output_type": "error",
     "traceback": [
      "\u001b[0;31m---------------------------------------------------------------------------\u001b[0m",
      "\u001b[0;31mValueError\u001b[0m                                Traceback (most recent call last)",
      "Cell \u001b[0;32mIn[87], line 1\u001b[0m\n\u001b[0;32m----> 1\u001b[0m \u001b[43mP\u001b[49m\u001b[38;5;129;43m@beta\u001b[39;49m\n",
      "\u001b[0;31mValueError\u001b[0m: matmul: Input operand 0 does not have enough dimensions (has 0, gufunc core with signature (n?,k),(k,m?)->(n?,m?) requires 1)"
     ]
    }
   ],
   "source": [
    "P@beta"
   ]
  },
  {
   "cell_type": "code",
   "execution_count": 81,
   "id": "c2870b8c-e4f3-482f-907d-ec566e2b563f",
   "metadata": {},
   "outputs": [
    {
     "data": {
      "text/plain": [
       "array([[-1.91002742, -0.92186503, -1.08265123,  0.10128784,  1.13183064],\n",
       "       [-0.27033453,  0.09442541, -0.21412823, -1.0213405 , -0.04262896],\n",
       "       [ 0.25084065,  0.22240159,  0.17268779,  0.25823634, -0.04667609],\n",
       "       ...,\n",
       "       [ 0.72570834,  0.65298513, -0.28390392, -1.10068273, -0.46834919],\n",
       "       [ 0.21971457,  1.48248596, -0.59271296,  1.06924575,  0.57892723],\n",
       "       [-0.24633521, -1.06654928, -0.4405091 ,  0.97873046,  0.77464404]])"
      ]
     },
     "execution_count": 81,
     "metadata": {},
     "output_type": "execute_result"
    }
   ],
   "source": [
    "Z"
   ]
  },
  {
   "cell_type": "code",
   "execution_count": 76,
   "id": "08456dd7-1750-43da-999f-6277b275bb4d",
   "metadata": {},
   "outputs": [
    {
     "data": {
      "text/plain": [
       "array([[1, 0, 0, 0, 0],\n",
       "       [0, 1, 0, 0, 0],\n",
       "       [0, 0, 0, 0, 1],\n",
       "       [0, 0, 0, 1, 0],\n",
       "       [0, 0, 1, 0, 0]])"
      ]
     },
     "execution_count": 76,
     "metadata": {},
     "output_type": "execute_result"
    }
   ],
   "source": [
    "P"
   ]
  },
  {
   "cell_type": "code",
   "execution_count": 69,
   "id": "2cb8fb0d-7dcd-4cf5-833d-09eefde0d0dc",
   "metadata": {},
   "outputs": [
    {
     "data": {
      "text/plain": [
       "(1000,)"
      ]
     },
     "execution_count": 69,
     "metadata": {},
     "output_type": "execute_result"
    }
   ],
   "source": [
    "Z.shape"
   ]
  },
  {
   "cell_type": "code",
   "execution_count": 49,
   "id": "e03429db-6bc3-4a34-a3a7-f7412a525d17",
   "metadata": {},
   "outputs": [
    {
     "data": {
      "text/plain": [
       "array([[ 0.        , -1.18208369,  0.        ,  0.        ,  0.        ],\n",
       "       [ 0.80622373, -0.25971326,  1.73093022,  0.        ,  0.        ],\n",
       "       [ 0.        ,  0.        ,  0.        ,  0.        ,  0.        ],\n",
       "       [ 0.        , -0.61205513,  2.68592717,  0.24531006, -2.3916667 ],\n",
       "       [ 0.        ,  1.86658371,  0.        ,  0.02836729,  0.        ]])"
      ]
     },
     "execution_count": 49,
     "metadata": {},
     "output_type": "execute_result"
    }
   ],
   "source": [
    "beta"
   ]
  },
  {
   "cell_type": "code",
   "execution_count": 20,
   "id": "e951cede-d462-4d90-840b-d30c31226c9f",
   "metadata": {},
   "outputs": [],
   "source": [
    "# def model(data):\n",
    "\n",
    "#     # sample f from the Beta prior\n",
    "#     f = pyro.sample(\"latent_fairness\", dist.Beta(alpha0, beta0))\n",
    "    \n",
    "#     # loop over the observed data\n",
    "#     for i in range(len(data)):\n",
    "#         # observe datapoint i using the Bernoulli\n",
    "#         # likelihood Bernoulli(f)\n",
    "#         pyro.sample(\"obs_{}\".format(i), dist.Bernoulli(f), obs=data[i])\n",
    "        \n",
    "def model(data):\n",
    "    \n",
    "    # define the hyperparameters that control the Beta prior\n",
    "    alpha0 = torch.tensor(10.0)\n",
    "    beta0 = torch.tensor(10.0)\n",
    "    \n",
    "    # sample f from the beta prior\n",
    "    f = pyro.sample(\"latent_fairness\", dist.Beta(alpha0, beta0))\n",
    "    # loop over the observed data [WE ONLY CHANGE THE NEXT LINE]\n",
    "    for i in pyro.plate(\"data_loop\", len(data)):\n",
    "        # observe datapoint i using the bernoulli likelihood\n",
    "        pyro.sample(\"obs_{}\".format(i), dist.Bernoulli(f), obs=data[i])"
   ]
  },
  {
   "cell_type": "code",
   "execution_count": 21,
   "id": "8e15488e-a0bd-4d24-84c2-f9e06587771b",
   "metadata": {},
   "outputs": [],
   "source": [
    "def guide(data):\n",
    "    \n",
    "    # register the two variational parameters with Pyro.\n",
    "    alpha_q = pyro.param(\"alpha_q\", torch.tensor(15.0),\n",
    "                         constraint=constraints.positive)\n",
    "    beta_q = pyro.param(\"beta_q\", torch.tensor(15.0),\n",
    "                        constraint=constraints.positive)\n",
    "    \n",
    "    # sample latent_fairness from the distribution Beta(alpha_q, beta_q)\n",
    "    pyro.sample(\"latent_fairness\", dist.Beta(alpha_q, beta_q))"
   ]
  },
  {
   "cell_type": "code",
   "execution_count": 22,
   "id": "6be4c39e-96df-41db-ae7c-6247b05f12db",
   "metadata": {},
   "outputs": [],
   "source": [
    "# this is for running the notebook in our testing framework\n",
    "smoke_test = ('CI' in os.environ)\n",
    "n_steps = 2 if smoke_test else 2000\n",
    "\n",
    "assert pyro.__version__.startswith('1.8.5')\n",
    "\n",
    "# clear the param store in case we're in a REPL\n",
    "pyro.clear_param_store()\n",
    "\n",
    "# create some data with 6 observed heads and 4 observed tails\n",
    "data = []\n",
    "for _ in range(6):\n",
    "    data.append(torch.tensor(1.0))\n",
    "for _ in range(4):\n",
    "    data.append(torch.tensor(0.0))"
   ]
  },
  {
   "cell_type": "code",
   "execution_count": 23,
   "id": "d9b26ac6-f5fb-45c6-b666-b00c223ad43e",
   "metadata": {},
   "outputs": [],
   "source": [
    "# set up the optimizer\n",
    "adam_params = {\"lr\": 0.0005, \"betas\": (0.90, 0.999)}\n",
    "optimizer = Adam(adam_params)\n",
    "\n",
    "# setup the inference algorithm\n",
    "svi = SVI(model, guide, optimizer, loss=Trace_ELBO())\n",
    "\n",
    "n_steps = 5000\n",
    "# do gradient steps\n",
    "for step in range(n_steps):\n",
    "    svi.step(data)"
   ]
  },
  {
   "cell_type": "code",
   "execution_count": 24,
   "id": "3d63cd76-ad61-469e-9db5-8480af6945e0",
   "metadata": {},
   "outputs": [
    {
     "name": "stdout",
     "output_type": "stream",
     "text": [
      "\n",
      "Based on the data and our prior belief, the fairness of the coin is 0.531 +- 0.090\n"
     ]
    }
   ],
   "source": [
    "# grab the learned variational parameters\n",
    "alpha_q = pyro.param(\"alpha_q\").item()\n",
    "beta_q = pyro.param(\"beta_q\").item()\n",
    "\n",
    "# here we use some facts about the Beta distribution\n",
    "# compute the inferred mean of the coin's fairness\n",
    "inferred_mean = alpha_q / (alpha_q + beta_q)\n",
    "\n",
    "# compute inferred standard deviation\n",
    "factor = beta_q / (alpha_q * (1.0 + alpha_q + beta_q))\n",
    "inferred_std = inferred_mean * math.sqrt(factor)\n",
    "\n",
    "print(\"\\nBased on the data and our prior belief, the fairness \" +\n",
    "      \"of the coin is %.3f +- %.3f\" % (inferred_mean, inferred_std))"
   ]
  }
 ],
 "metadata": {
  "kernelspec": {
   "display_name": "Python 3 (ipykernel)",
   "language": "python",
   "name": "python3"
  },
  "language_info": {
   "codemirror_mode": {
    "name": "ipython",
    "version": 3
   },
   "file_extension": ".py",
   "mimetype": "text/x-python",
   "name": "python",
   "nbconvert_exporter": "python",
   "pygments_lexer": "ipython3",
   "version": "3.10.10"
  }
 },
 "nbformat": 4,
 "nbformat_minor": 5
}
